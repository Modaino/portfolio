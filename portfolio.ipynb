{
 "cells": [
  {
   "attachments": {},
   "cell_type": "markdown",
   "metadata": {},
   "source": [
    "# Protfolio optimization with CIM"
   ]
  },
  {
   "attachments": {},
   "cell_type": "markdown",
   "metadata": {},
   "source": [
    "## Equations"
   ]
  },
  {
   "attachments": {},
   "cell_type": "markdown",
   "metadata": {},
   "source": [
    "### Optimization problem formulation"
   ]
  },
  {
   "attachments": {},
   "cell_type": "markdown",
   "metadata": {},
   "source": [
    "Potential:\n",
    "$$\n",
    "V(\\omega; \\mu, \\Theta) = \\sum_{ij}^N -\\mu_i \\omega_i + \\frac{\\gamma}{2} \\Theta_{ij} \\omega_i \\omega_j \n",
    "$$\n",
    "Constraints:\n",
    "\n",
    "\n",
    "-Allocations (Box constraints)\n",
    "$$\n",
    "\\sum_{i \\in I_k} \\omega_i \\leq \\lambda_{I_k}\n",
    "$$\n",
    "for some subsets $I_k \\subseteq \\left[ N \\right]$, whre $k \\in [M']$ \n",
    "\n",
    "-Budget constraints \n",
    "$$\n",
    "\\sum_{i \\in J_k} \\omega_i = \\lambda_{J_k}\n",
    "$$\n",
    "for some subsets $J_k \\subseteq \\left[ N \\right]$, whre $k \\in [M]$ , with $\\lambda_{\\left[ N \\right]} = \\lambda_0 = 1$\n",
    "\n",
    "-Continuous formulation of budget constraints (with lagrange multiplier $\\rho$)\n",
    "$$\n",
    "U(\\omega; u, \\lambda) = -\\rho \\sum_{k=0}^M \\sum_i \\left[ (u_k)_i \\omega_i - \\lambda_k \\right]^2\n",
    "$$\n",
    "where $(u_k)_i = 1$ if the $i^{\\text{th}}$ asset is in $J_k$, $0$ otherwise.\n",
    "\n",
    "-Trading costs (backwards, real-life)\n",
    "$$\n",
    "\\underset{\\omega_i(t)}{\\text{min}} \\underbrace{\\sum_i^N \\left| \\omega_i (t) - \\overbrace{\\omega_i(t - \\delta t)}^{\\equiv \\Omega_i} \\right| \\nu_i }_{ \\equiv W(\\omega; \\nu, \\Omega) }\n",
    "$$\n",
    "-Trading costs (modified to have continuous derivative)\n",
    "$$\n",
    "\\underset{\\omega_i(t)}{\\text{min}} \\underbrace{\\sum_i^N \\left( \\omega_i  - \\Omega_i \\right)^2\\nu_i }_{ \\equiv W'(\\omega; \\nu, \\Omega) }\n",
    "$$\n",
    "-Trading cost, each transaction has a fix additional cost"
   ]
  },
  {
   "attachments": {},
   "cell_type": "markdown",
   "metadata": {},
   "source": [
    "### Gradient rule\n",
    "$$\n",
    "\\frac{d \\omega_k}{dt} = -\\frac{\\partial_k }{\\partial \\omega_k } \\left[ V(\\omega; \\mu, \\Theta) + W'(\\omega; \\nu, \\Omega) + U(\\omega; u, \\lambda)\\right]\n",
    "$$\n",
    "\n",
    "Projection to enforce box constraints...\n"
   ]
  },
  {
   "attachments": {},
   "cell_type": "markdown",
   "metadata": {},
   "source": [
    "$$\n",
    "\\begin{aligned}\n",
    "\n",
    "- \\frac{\\partial }{\\partial \\omega_k }  V(\\omega; \\mu, \\Theta) &= - \\partial_k \\left( \\sum_{ij}^N -\\mu_i \\omega_i + \\frac{\\gamma}{2} \\Theta_{ij} \\omega_i \\omega_j  \\right) \\\\\n",
    "\n",
    " &= - \\sum_{ij}^N -\\mu_i \\delta_{i,k} + \\frac{\\gamma}{2} \\Theta_{ij} \\delta_{i,k} \\omega_j + \\frac{\\gamma}{2} \\Theta_{ij} \\omega_i \\delta_{k, j}  \\\\\n",
    "\n",
    " &= \\sum_{i}^N \\mu_k  - \\gamma \\Theta_{ik} \\omega_i \\\\\n",
    "\n",
    " &= \\mu_k - \\gamma \\sum_{i}^N \\Theta_{ik} \\omega_i \\\\\n",
    "\\end{aligned}\n",
    "$$"
   ]
  },
  {
   "attachments": {},
   "cell_type": "markdown",
   "metadata": {},
   "source": [
    "$$\n",
    "\n",
    "\\begin{aligned}\n",
    "-\\frac{\\partial }{\\partial \\omega_k } W'(\\omega; \\nu, \\Omega) &= - \\partial_k \\sigma \\sum_i (\\omega_i - \\Omega_i)^2 \\nu_i\\\\\n",
    "\n",
    "&= - 2 \\sigma  \\sum_i \\nu_i \\left(\\omega_i -\\Omega_i \\right)\\delta_{i,k} \\\\\n",
    "\n",
    "&= - 2 \\sigma  \\nu_k \\left(\\omega_k -\\Omega_k \\right)\n",
    "\\end{aligned}\n",
    "$$\n",
    "\n"
   ]
  },
  {
   "attachments": {},
   "cell_type": "markdown",
   "metadata": {},
   "source": [
    "$$\n",
    "\\begin{aligned}\n",
    "-\\frac{\\partial }{\\partial \\omega_k } U(\\omega, u, \\lambda) \n",
    " &= \\partial_k \\rho \\sum_{j=0}^M \\sum_i \\left[ (u_j)_i \\omega_i - \\lambda_j \\right]^2 \\\\\n",
    " &= \\sum_{j=0}^M \\sum_i^N2 \\left((u_j)_i \\omega_i - \\lambda_j \\right) (u_j)_i \\delta_{ik} \\\\\n",
    " &= 2 \\sum_{j=0}^M \\left((u_j)_k \\omega_k - \\lambda_j \\right) (u_j)_k\n",
    "\\end{aligned}\n",
    "$$"
   ]
  },
  {
   "attachments": {},
   "cell_type": "markdown",
   "metadata": {},
   "source": [
    "### Exact solution\n",
    "$$\n",
    "\\frac{\\partial}{\\partial \\omega_k} (V + W + U) = 0\n",
    "$$\n",
    "In vector notation\n",
    "$$\n",
    " 0 = \\vec{\\mu} - \\gamma \\underline{\\underline{\\Theta}} \\vec{\\omega} -2 \\sigma \\cdot \\text{diag}(\\vec{\\nu})\\left( \\vec{\\omega} - \\vec{\\Omega} \\right) + \\rho \\sum_j \\underbrace{\\vec{u}_j \\odot \\vec{\\omega}  \\odot \\vec{u}_j}_{\\text{diag}(\\vec{u_j})^2 \\vec{\\omega}} - \\lambda_j \\vec{u}_j \n",
    "$$\n",
    "\n",
    "$$\n",
    "\\vec{\\omega} = \\left( 2\\rho \\sum_j \\text{diag}(\\vec{u_j})^2 - \\gamma \\underline{\\underline{\\Theta}} -2 \\sigma \\cdot \\text{diag}(\\vec{\\nu}) \\right)^{-1} \\left(2 \\rho \\sum_j \\lambda_j \\vec{u}_j + 2\\sigma \\text{diag}(\\vec{\\nu}) \\vec{\\Omega} - \\vec{\\mu}  \\right)\n",
    "$$"
   ]
  },
  {
   "attachments": {},
   "cell_type": "markdown",
   "metadata": {},
   "source": [
    "## Binary encoding"
   ]
  },
  {
   "attachments": {},
   "cell_type": "markdown",
   "metadata": {},
   "source": [
    "$$\n",
    "\\left\\{1, 2, \\dots, M \\right\\} \\ni \\omega_i = \\sum_{q=0}^{[\\log_2 M]} 2^{q-2}(s_q+1)\n",
    "$$\n",
    "or inversly\n",
    "$$\n",
    "s_j = 1-2\\text{Heavyside} \\left[ \\omega \\cdot 2^{1-j} -1 \\right]\n",
    "$$"
   ]
  },
  {
   "attachments": {},
   "cell_type": "markdown",
   "metadata": {},
   "source": [
    "$$\n",
    "H(\\omega) = \\sum_{ij} J_{ij} \\omega_i \\omega_j = \\sum_{ij} J_{ij} \\left( \\sum_{p}2^{p-2} (s_p+1) \\right) \\left(\\sum_{q}2^{q-2} (s_q+1) \\right)\n",
    "$$"
   ]
  },
  {
   "attachments": {},
   "cell_type": "markdown",
   "metadata": {},
   "source": [
    "$$\n",
    "\\frac{\\partial}{\\partial s_k} H\\left( \\omega(s) \\right) = \\frac{\\partial H}{\\partial \\omega_l}\\frac{\\partial \\omega_l}{\\partial s_k} = \\left(\\sum_i J_{il} \\omega_i \\right) \\left( \\partial_k \\sum_{q=0}^{[\\log_2 M]} 2^{q-2}(s_q+1) \\right)\n",
    "$$\n",
    "\n",
    "$$\n",
    "\\partial_k H = \\sum_i J_{il} \\omega_i 2^{k-2} = \\sum_i J_{il} 2^{k-2} \\left(\\sum_{q}2^{q-2} (s_q+1) \\right)\n",
    "$$\n",
    "\n",
    "if $s_k$ is part of the representation of $\\omega_l$, otherwise it is zero."
   ]
  },
  {
   "attachments": {},
   "cell_type": "markdown",
   "metadata": {},
   "source": [
    "$\\pm$"
   ]
  },
  {
   "attachments": {},
   "cell_type": "markdown",
   "metadata": {},
   "source": [
    "# Code"
   ]
  },
  {
   "cell_type": "code",
   "execution_count": null,
   "metadata": {},
   "outputs": [],
   "source": [
    "using DifferentialEquations\n",
    "using DynamicalSystems\n",
    "using PlotlyJS, DataFrames\n",
    "using IJulia\n",
    "using SparseArrays\n",
    "using Random\n",
    "using LinearAlgebra\n",
    "using StatsBase\n",
    "using Polynomials, SpecialPolynomials"
   ]
  },
  {
   "attachments": {},
   "cell_type": "markdown",
   "metadata": {},
   "source": [
    "### Misc. functions"
   ]
  },
  {
   "cell_type": "code",
   "execution_count": null,
   "metadata": {},
   "outputs": [],
   "source": [
    "function get_Jacobian(state_sizes)\n",
    "    Jakobian = zeros(Float64, (N, M))\n",
    "    q = 0\n",
    "\n",
    "    for i in 1:N\n",
    "        for j in 1:M\n",
    "            if j <= sum(state_sizes[1:i])\n",
    "                if i > 1\n",
    "                    if  j > sum(state_sizes[1:i-1])\n",
    "                        q = j - 1 - sum(state_sizes[1:i-1])\n",
    "                        Jakobian[i, j] = 2.0^(q-2)\n",
    "                    end\n",
    "                else\n",
    "                    q = j-1\n",
    "                    Jakobian[i, j] = 2.0^(q-2)\n",
    "                end\n",
    "            end\n",
    "        end\n",
    "    end\n",
    "    return sparse(Jakobian)\n",
    "end\n",
    "\n",
    "function get_ω_clipped(s, state_sizes, values, N, M)\n",
    "    ω = zeros(N)\n",
    "    s_clipped = [elem < 0 ? -1 : 1 for elem in s]\n",
    "    idx = 0\n",
    "    for i in 1:N\n",
    "        ω_idx = 1 + Int(round( sum([2.0^(q-2)*(s_clipped[q+idx] + 1.0) for q in 1:state_sizes[i]]) ))\n",
    "        if ω_idx > length(values[i])[1] # This has to be decided (maybe put random values from the allowed set)\n",
    "            ω = 0\n",
    "        else\n",
    "            ω[i] = values[i][ω_idx] # ennek nincs értelem a második index 1:M_i' ig fut\n",
    "        end\n",
    "        idx += state_sizes[i]\n",
    "    end\n",
    "    return ω\n",
    "end\n",
    "\n",
    "function ω(s, state_sizes, values, N, M)\n",
    "    ω = zeros(N)\n",
    "    idx = 0\n",
    "    for i in 1:N\n",
    "        ω_cont = sum([ 2.0^(q-2)* (1.0+s[q+idx]) for q in 1:state_sizes[i]])\n",
    "        ω_idx = Int(floor(ω_cont))\n",
    "        #DEBUG\n",
    "        if ω_idx < 0\n",
    "            println(ω_cont)\n",
    "            println(values[i])\n",
    "            exit(86)\n",
    "        end\n",
    "        #DEBUG\n",
    "        weight = ω_cont - ω_idx\n",
    "        if ω_idx > state_sizes[i]\n",
    "            ω[i] = values[i][end]\n",
    "        else\n",
    "            ω[i] = (1-weight) * values[i][ω_idx+1]\n",
    "            if ω_idx+2 <= state_sizes[i]\n",
    "                ω[i] += weight*values[i][ω_idx+2]\n",
    "            end\n",
    "        end\n",
    "        idx += state_sizes[i]\n",
    "    end\n",
    "    return ω\n",
    "end\n",
    "\n",
    "function f_ω(ω, values, ϵ)\n",
    "    if ω <= (values[1] - ϵ/2)\n",
    "        return (ω - (values[1] - ϵ/2))^2\n",
    "    elseif ω >= (last(values) + ϵ/2)\n",
    "        return (ω - (last(values) + ϵ/2))^2\n",
    "    else\n",
    "        for j in 1:(size(values)[1])\n",
    "            if ω > (values[j] - ϵ/2) && ω < (values[j] + ϵ/2)\n",
    "                return -sqrt(0.25ϵ^2 -(ω - values[j])^2)\n",
    "            elseif ω > (values[j] + ϵ/2) && ω < (values[j+1] - ϵ/2)\n",
    "                return sqrt(0.25*(values[j+1] - values[j] - ϵ)^2 -(ω - 0.5*(values[j]+values[j+1]))^2)\n",
    "            end\n",
    "        end\n",
    "    end\n",
    "    return 0\n",
    "end\n",
    "\n",
    "function g_ω_old(ω, points, ϵ)\n",
    "    N = size(ω)[1]\n",
    "    result = zero(ω)\n",
    "    for i in 1:N\n",
    "        values = points[i]\n",
    "        if ω[i] <= (values[1] - ϵ/2)\n",
    "            result[i] = (ω[i] - (values[1] - ϵ/2))^2\n",
    "        elseif ω[i] >= (last(values) + ϵ/2)\n",
    "            result[i] = (ω[i] - (last(values) + ϵ/2))^2\n",
    "        else\n",
    "            for j in 1:(size(values)[1])\n",
    "                if ω[i] > (values[j] - ϵ/2) && ω[i] < (values[j] + ϵ/2)\n",
    "                    result[i] = -sqrt(0.25ϵ^2 -(ω[i] - values[j])^2)\n",
    "                    break\n",
    "                elseif ω[i] > (values[j] + ϵ/2) && ω[i] < (values[j+1] - ϵ/2)\n",
    "                    result[i] = sqrt(0.25*(values[j+1] - values[j] - ϵ)^2 -(ω[i] - 0.5*(values[j]+values[j+1]))^2)\n",
    "                    break\n",
    "                else\n",
    "                    result[i] = 0\n",
    "                end\n",
    "            end\n",
    "        end\n",
    "    end\n",
    "    return result\n",
    "end\n",
    "\n",
    "function special_sawtooth(x, values, amplitude)\n",
    "    N = size(x)[1]\n",
    "    result = zero(x)\n",
    "\n",
    "    for i in 1:N\n",
    "        points = values[i]\n",
    "        num_teeth = length(points) - 1\n",
    "        if x[i] < points[1]\n",
    "            result[i] = x[i] * amplitude / points[1]  # Linearly increasing function\n",
    "        elseif x[i] > points[end]\n",
    "            last_tooth_width = points[end] - points[end - 1]\n",
    "            relative_x = x[i] - points[end]\n",
    "            result[i] = (relative_x / last_tooth_width - 1) * amplitude  # Linearly decreasing function\n",
    "        else\n",
    "            for j in 1:num_teeth\n",
    "                if x[i] >= points[j] && x[i] <= points[j + 1]\n",
    "                    tooth_width = points[j + 1] - points[j]\n",
    "                    relative_x = x[i] - points[j]\n",
    "                    tooth_position = relative_x / tooth_width\n",
    "                    result[i] = (2 * tooth_position - 1) * amplitude\n",
    "                end\n",
    "            end\n",
    "        end\n",
    "    end\n",
    "    return result\n",
    "end\n",
    "\n",
    "function g_ω(a, ω, set_of_zeros)\n",
    "    function σωσ(a, ω, α)\n",
    "        return (2/(1 + exp(-a*(ω - α))) - 1)\n",
    "    end\n",
    "\n",
    "    product = 1.0\n",
    "    if length(set_of_zeros) %2 == 1\n",
    "        for i in 1:length(set_of_zeros)-1\n",
    "            product *= σωσ(-a, ω, set_of_zeros[i]) * σωσ(a, ω,  0.5*(set_of_zeros[i]+set_of_zeros[i+1]))\n",
    "        end\n",
    "        return product * σωσ(-a, ω, set_of_zeros[end])\n",
    "    else\n",
    "        for i in 1:length(set_of_zeros)-1\n",
    "            product *= σωσ(-a, ω, set_of_zeros[i]) * σωσ(a, ω,  0.5*(set_of_zeros[i]+set_of_zeros[i+1]))\n",
    "        end\n",
    "        return - product * σωσ(-a, ω, set_of_zeros[end])\n",
    "    end\n",
    "end\n",
    "\n",
    "function get_Lagrange_poly(opo_nodes)\n",
    "    peeks = Vector{Float64}()\n",
    "    dist = opo_nodes[2] -opo_nodes[1]\n",
    "    \n",
    "    push!(peeks, maximum(opo_nodes)+0.1*dist)\n",
    "    push!(peeks, minimum(opo_nodes)-0.1*dist)\n",
    "    if length(opo_nodes) % 2 == 1\n",
    "        push!(peeks, (opo_nodes[1]+opo_nodes[2])/2)\n",
    "        push!(peeks, (opo_nodes[end]+opo_nodes[end-1])/2)\n",
    "    else\n",
    "        push!(peeks, (opo_nodes[Integer(length(opo_nodes)/2)] + opo_nodes[Integer(length(opo_nodes)/2)+1])/2 )\n",
    "    end\n",
    "    xs = Vector{Float64}()\n",
    "    ys = Vector{Float64}()\n",
    "    \n",
    "    for i in 1:length(opo_nodes)\n",
    "        push!(xs, opo_nodes[i])\n",
    "        push!(ys, 0.0)\n",
    "    end\n",
    "    \n",
    "    for i in 1:length(peeks)\n",
    "        push!(xs, peeks[i])\n",
    "        push!(ys, 1)\n",
    "    end\n",
    "    \n",
    "    perm=sortperm(xs)\n",
    "    xs = xs[perm]\n",
    "    ys = ys[perm];\n",
    "\n",
    "    return Lagrange(xs, ys)\n",
    "end\n",
    "    "
   ]
  },
  {
   "cell_type": "markdown",
   "metadata": {},
   "source": [
    "### DEBUG"
   ]
  },
  {
   "cell_type": "code",
   "execution_count": null,
   "metadata": {},
   "outputs": [],
   "source": [
    "s_points = [i for i in -1:0.01:1]\n",
    "\n",
    "m_mat = zeros( (length(s_points), length(s_points)) )\n",
    "\n",
    "s = -ones(M)\n",
    "\n",
    "for i in 1:length(s_points)\n",
    "    for j in 1:length(s_points)\n",
    "        s[1:2] = [s_points[i], s_points[j]]\n",
    "        m_mat[i, j] = ω(s, state_sizes, values, N, M)[1]\n",
    "    end\n",
    "end\n"
   ]
  },
  {
   "cell_type": "code",
   "execution_count": null,
   "metadata": {},
   "outputs": [],
   "source": [
    "plot(heatmap(z=m_mat, x = s_points, y= s_points), Layout(xaxis_title=\"s1\", yaxis_title=\"s2\"))"
   ]
  },
  {
   "cell_type": "code",
   "execution_count": null,
   "metadata": {},
   "outputs": [],
   "source": [
    "ωs = [i for i in 0:0.001:50]\n",
    "vals = [5, 15, 20, 30, 45]\n",
    "traces = [scatter(x = ωs, y = [g_ω(7.5, ω, vals) for ω in ωs]), \n",
    "        scatter(x = vals, y = zeros(length(vals)), mode=\"markers\", marker_color=\"red\")\n",
    "        ];\n",
    "layout = Layout(title=\"e_rhs\",\n",
    "                    xaxis_title=\"ω\",\n",
    "                    yaxis_title=\"e_rhs\")\n",
    "plot(traces, layout)"
   ]
  },
  {
   "cell_type": "code",
   "execution_count": null,
   "metadata": {},
   "outputs": [],
   "source": [
    "opo_nodes = [10.0, 20, 30,  40,  50, 60.0]\n",
    "peeks = Vector{Float64}()\n",
    "dist = opo_nodes[2] -opo_nodes[1]\n",
    "\n",
    "push!(peeks, maximum(opo_nodes)+0.1*dist)\n",
    "push!(peeks, minimum(opo_nodes)-0.1*dist)\n",
    "if length(opo_nodes) % 2 == 1\n",
    "    #idx = Integer(floor(length(opo_nodes)/2))\n",
    "    #push!(peeks, (opo_nodes[idx]+opo_nodes[idx+1])/2)\n",
    "    #push!(peeks, (opo_nodes[idx+1]+opo_nodes[idx+2])/2)\n",
    "\n",
    "    push!(peeks, (opo_nodes[1]+opo_nodes[2])/2)\n",
    "    push!(peeks, (opo_nodes[end]+opo_nodes[end-1])/2)\n",
    "else\n",
    "    push!(peeks, (opo_nodes[Integer(length(opo_nodes)/2)] + opo_nodes[Integer(length(opo_nodes)/2)+1])/2 )\n",
    "end\n",
    "\n",
    "#opo_nodes = [1.0, 2.5, 4.0]\n",
    "#peeks = [0.5, 1.5, 3.5, 4.5]\n",
    "\n",
    "xs = Vector{Float64}()\n",
    "ys = Vector{Float64}()\n",
    "\n",
    "for i in 1:length(opo_nodes)\n",
    "    push!(xs, opo_nodes[i])\n",
    "    push!(ys, 0.0)\n",
    "end\n",
    "\n",
    "for i in 1:length(peeks)\n",
    "    push!(xs, peeks[i])\n",
    "    push!(ys, 1)\n",
    "end\n",
    "\n",
    "perm=sortperm(xs)\n",
    "xs = xs[perm]\n",
    "ys = ys[perm];"
   ]
  },
  {
   "cell_type": "code",
   "execution_count": null,
   "metadata": {},
   "outputs": [],
   "source": [
    "p = Lagrange(xs, ys)\n",
    "\n",
    "ωs = [i for i in 0.0:0.001:70]\n",
    "\n",
    "traces = [scatter(x = ωs, y = [p(ω)*p(ω) for ω in ωs]), \n",
    "scatter(x = opo_nodes, y = zeros(length(opo_nodes)), mode=\"markers\", marker_color=\"red\", name=\"zeros\"),\n",
    "scatter(x = peeks, y = ones(length(peeks)), mode=\"markers\", marker_color=\"green\", name=\"peeks\"),\n",
    "        ];\n",
    "layout = Layout(title=\"Vopo with Lagrange polynomials\",\n",
    "                    xaxis_title=\"ω\",\n",
    "                    yaxis_title=\"Vopo = (L(ω; peeks, nodes))²\")\n",
    "plot(traces, layout)"
   ]
  },
  {
   "cell_type": "code",
   "execution_count": null,
   "metadata": {},
   "outputs": [],
   "source": [
    "function chbsv_scaling(points)\n",
    "        return 2*(points ./ maximum(points)) - ones(size(points))\n",
    "end\n",
    "\n",
    "#xs_chbs = chbsv_scaling(xs)\n",
    "\n",
    "p = Newton(xs, ys)\n",
    "\n",
    "ωs = [i for i in 0.4:0.001:4.6]\n",
    "\n",
    "traces = [scatter(x = ωs, y = [p(ω) for ω in ωs]), \n",
    "scatter(x = chbsv_scaling(opo_nodes), y = zeros(length(opo_nodes)), mode=\"markers\", marker_color=\"red\", name=\"zeros\"),\n",
    "scatter(x = chbsv_scaling(peeks), y = ones(length(peeks)), mode=\"markers\", marker_color=\"green\", name=\"peeks\"),\n",
    "        ];\n",
    "layout = Layout(title=\"Vopo with Newton polynomials\",\n",
    "                    xaxis_title=\"ω\",\n",
    "                    yaxis_title=\"Vopo\")\n",
    "plot(traces, layout)"
   ]
  },
  {
   "attachments": {},
   "cell_type": "markdown",
   "metadata": {},
   "source": [
    "### Generating random input data"
   ]
  },
  {
   "cell_type": "code",
   "execution_count": null,
   "metadata": {},
   "outputs": [],
   "source": [
    "N = 12\n",
    "\n",
    "A = [1 0; 0 0]\n",
    "B = [0 0; 0 1]\n",
    "\n",
    "\n",
    "# Random connectivity matrix\n",
    "J = 2* kron(A, rand(Int(N/2))) *kron(rand(Int(N/2)), A)' + 2 * kron( B, rand(Int(N/2), Int(N/2)) ) - kron( B, ones(Int(N/2), Int(N/2)) ) + 2 * kron(A, rand(Int(N/2), Int(N/2)) ) - kron(A, ones(Int(N/2), Int(N/2)) )\n",
    "J = 0.5*(J + J')\n",
    "\n",
    "ω_p = rand(N)\n",
    "values = Array{Any}(undef, 0)\n",
    "for i in 1:N\n",
    "    unit = floor(rand() * 5) + 1\n",
    "    upper = floor(rand() + unit)\n",
    "    m_list = 10*[Int(j*unit) for j in 0:upper]\n",
    "    push!(values, m_list)\n",
    "end\n",
    "\n",
    "# Random asset classes\n",
    "state_sizes = [Int(ceil(log(2, size(val)[1]) )) for val in values]\n",
    "M = sum(state_sizes)\n",
    "values"
   ]
  },
  {
   "cell_type": "code",
   "execution_count": null,
   "metadata": {},
   "outputs": [],
   "source": [
    "Jak_sparse = get_Jacobian(state_sizes)"
   ]
  },
  {
   "cell_type": "markdown",
   "metadata": {},
   "source": [
    "### Update rule 1:"
   ]
  },
  {
   "attachments": {},
   "cell_type": "markdown",
   "metadata": {},
   "source": [
    "Equations of motion\n",
    "$$\n",
    "\\frac{d}{dt} \\vec{s} = \\vec{e}(t) \\circ \\left[ J^T \\partial_{\\omega} H(\\omega) \\right] + \\partial V_{opo}(s)\n",
    "$$\n",
    "$$\n",
    "\\frac{d}{dt} \\vec{e} = -\\beta \\vec{e}(t) \\circ \\left[ \\vec{s}(t) \\circ \\vec{s}(t) - \\alpha \\vec{1}\\right]\n",
    "$$\n",
    "where $ \\partial H = - \\Theta \\vec{\\omega} (+ \\vec{B}) $, and \n",
    "$$ \\omega_j = \\sum_{q=0}^{\\left[ log_2 M \\right]} 2^{q-2}([s_q] + 1) $$\n"
   ]
  },
  {
   "cell_type": "code",
   "execution_count": null,
   "metadata": {},
   "outputs": [],
   "source": [
    "function update_rule1!(du, u, params, t)\n",
    "    Jac_sparse  = params[1] # Sparse Jacobian matrix ω -> s\n",
    "    J_ij        = params[2] # Connectivity matrix\n",
    "    state_sizes = params[3] # Vector (of size N) bits per asset\n",
    "    N           = params[4]\n",
    "    M           = params[5]\n",
    "    p           = params[6] # OPO pump parameter\n",
    "    β           = params[7] # Feedback gain parameter\n",
    "    α           = params[8] # Target amplitude parameter\n",
    "    ω_function  = params[9] # Function to get ω from the state s\n",
    "    values      = params[10]# Array of arrays containing the actual values of the assets\n",
    "\n",
    "    # State variables\n",
    "    e = u[M+1:2M]\n",
    "    s = u[1:M]\n",
    "\n",
    "    # N dimensional vector containing the values for the original state NOT SMOOTH\n",
    "    ω           = ω_function(s, state_sizes, values, N, M)\n",
    "    # N dimensional vector containing the gradient of the quadratic (Ising) potential\n",
    "    ∂ωH         = -J_ij * ω\n",
    "    # M dimensional vector, containing the OPO dynamics\n",
    "    ∂V_opo      = (p-1)*s - (s .* s .* s)\n",
    "\n",
    "    # Writing in output vector\n",
    "    du[1:M] = e .* (Jac_sparse' * ∂ωH) + ∂V_opo\n",
    "    du[M+1:2M] = -β * e .* ( (s .* s) - α * ones(M))\n",
    "end"
   ]
  },
  {
   "cell_type": "markdown",
   "metadata": {},
   "source": [
    "### Update rule 2:"
   ]
  },
  {
   "cell_type": "markdown",
   "metadata": {},
   "source": [
    "Equations of motion:\n",
    "$$\n",
    "\\frac{d}{dt} \\vec{\\omega} = \\vec{e}\\circ \\partial_{\\omega} H + \\partial V_{opo} (\\omega)\n",
    "$$\n",
    "$$\n",
    "\\frac{d}{dt} \\vec{e} = -\\beta \\vec{e}\\circ g\\left( \\omega \\right)\n",
    "$$\n",
    "where $ \\partial H = - \\Theta \\vec{\\omega} (+ \\vec{B}) $\n"
   ]
  },
  {
   "cell_type": "code",
   "execution_count": null,
   "metadata": {},
   "outputs": [],
   "source": [
    "function update_rule2!(du, u, params, t)\n",
    "    Jac_sparse  = params[1] # Dummy\n",
    "    Θ           = params[2] # Connectivity matrix\n",
    "    state_sizes = params[3] # Vector (of size N) bits per asset\n",
    "    N           = params[4] # Characteristic problem size (nbr of assets)\n",
    "    M           = params[5] # Dummy\n",
    "    ∂V_opo      = params[6] # Gradient of the multy-stable OPO potential\n",
    "    β           = params[7] # Feedback gain parameter\n",
    "    ϵ           = params[8] # Parameter for the error variables\n",
    "    g_ω         = params[9] # Function to get rhs of the error variables\n",
    "    values      = params[10]# Array of arrays containing the acceptable values for each asset\n",
    "\n",
    "    # State variables\n",
    "    e = u[N+1:2N]\n",
    "    ω = u[1:N]\n",
    "\n",
    "    # N dimensional vector containing the gradient of the quadratic (Ising) potential\n",
    "    ∂ωH         = - Θ * ω\n",
    " \n",
    "    # Writing in output vector\n",
    "    #du[1:N] = e .* ∂ωH + ∂V_opo\n",
    "    du[1:N] = e .* ∂ωH + [∂V_opo[i](ω[i]) for i in 1:N]\n",
    "    du[N+1:2N] = -β * e .* [g_ω(ϵ, ω[i], values[i]) for i in 1:N]\n",
    "    #du[N+1:2N] .= 0.0\n",
    "end"
   ]
  },
  {
   "cell_type": "markdown",
   "metadata": {},
   "source": [
    "### Update rule 3:"
   ]
  },
  {
   "cell_type": "markdown",
   "metadata": {},
   "source": [
    "Equations of motion:\n",
    "$$\n",
    "\\frac{d}{dt} s = \\vec{e}\\circ \\partial_{s} H + \\partial V_{opo} (s)\n",
    "$$\n",
    "$$\n",
    "\\frac{d}{dt} \\vec{e} = -\\beta \\vec{e}(t) \\circ \\left[ \\vec{s}(t) \\circ \\vec{s}(t) - \\alpha \\vec{1}\\right]\n",
    "$$\n",
    "where \n",
    "$$\n",
    " \\partial_{s_k} H = - 2 \\sum_{ij} \\Theta_{ij} \\omega_i \\partial_k \\omega_j \n",
    "$$\n"
   ]
  },
  {
   "cell_type": "code",
   "execution_count": null,
   "metadata": {},
   "outputs": [],
   "source": [
    "function update_rule1!(du, u, params, t)\n",
    "    Jac_sparse  = params[1] # Sparse Jacobian matrix ω -> s\n",
    "    J_ij        = params[2] # Connectivity matrix\n",
    "    state_sizes = params[3] # Vector (of size N) bits per asset\n",
    "    N           = params[4]\n",
    "    M           = params[5]\n",
    "    p           = params[6] # OPO pump parameter\n",
    "    β           = params[7] # Feedback gain parameter\n",
    "    α           = params[8] # Target amplitude parameter\n",
    "    get_ω       = params[9] # Function to get ω from the state s\n",
    "    values      = params[10]# Array of arrays containing the actual values of the assets\n",
    "\n",
    "    # State variables\n",
    "    e = u[M+1:2M]\n",
    "    s = u[1:M]\n",
    "\n",
    "    # N dimensional vector containing the values for the original state NOT SMOOTH\n",
    "    ω           = get_ω(s, state_sizes, values, N, M)\n",
    "    # N dimensional vector containing the gradient of the quadratic (Ising) potential\n",
    "    ∂sH         = -J_ij * ω\n",
    "    # M dimensional vector, containing the OPO dynamics\n",
    "    ∂V_opo      = (p-1)*s - (s .* s .* s)\n",
    "\n",
    "    # Writing in output vector\n",
    "    du[1:M] = e .* (Jac_sparse' * ∂ωH) + ∂V_opo\n",
    "    du[M+1:2M] = -β * e .* ( (s .* s) - α * ones(M))\n",
    "end"
   ]
  },
  {
   "attachments": {},
   "cell_type": "markdown",
   "metadata": {},
   "source": [
    "## Simulation 1"
   ]
  },
  {
   "cell_type": "code",
   "execution_count": null,
   "metadata": {},
   "outputs": [],
   "source": [
    "tspan = (0.0, 2.0)\n",
    "\n",
    "# Load data here\n",
    "params = (Jak_sparse, J, state_sizes, N, M, 1.9, 0.15, 1.0, ω, values);\n",
    "\n",
    "# initial condition(s)\n",
    "u0 = ones(2M)\n",
    "u0[1:M] = 2*rand(M)-ones(M)\n",
    "\n",
    "# define problem and run simulation\n",
    "prob = ODEProblem(update_rule1!, u0, tspan, params)\n",
    "#sol = solve(prob, Euler(), dt = 0.01);\n",
    "sol = solve(prob, Tsit5());"
   ]
  },
  {
   "attachments": {},
   "cell_type": "markdown",
   "metadata": {},
   "source": [
    "## Plotting 1"
   ]
  },
  {
   "cell_type": "code",
   "execution_count": null,
   "metadata": {},
   "outputs": [],
   "source": [
    "traces = [scatter(x = sol.t, y = [vec[n] for vec in sol.u], name = string(n)) for n in 1:M];\n",
    "layout1 = Layout(title=\"Softspins\",\n",
    "                   xaxis_title=\"t\",\n",
    "                   yaxis_title=\"Value\")\n",
    "p1() = plot(traces, layout1);\n",
    "\n",
    "auxs = [scatter(x = sol.t, y = [vec[m] for vec in sol.u], name = string(m)) for m in M+1:2M];\n",
    "layout2 = Layout(title=\"Error variables\",\n",
    "                   xaxis_title=\"t\",\n",
    "                   yaxis_title=\"Value\")\n",
    "p2() = plot(auxs, layout2);\n",
    "\n",
    "energies = [ get_ω(s_t[1:M], state_sizes, values, N, M)'*(J *get_ω(s_t[1:M], state_sizes, values, N, M)) for s_t in sol.u]\n",
    "layout3 = Layout(title=\"Ising Energy\",\n",
    "                   xaxis_title=\"t\",\n",
    "                   yaxis_title=\"Value\")   \n",
    "\n",
    "ω_trj = [ get_ω(s_t[1:M], state_sizes, values, N, M)' for s_t in sol.u]\n",
    "traces2 = [scatter(x = sol.t, y = [ω[i] for ω in ω_trj], name = string(i)) for i in 1:N];\n",
    "layout4 = Layout(title=\"ω\",\n",
    "                    xaxis_title=\"t\",\n",
    "                    yaxis_title=\"Value\")\n",
    "p4() = plot(traces2, layout4);\n",
    "\n",
    "\n",
    "p3() = plot(scatter(x=sol.t, y= energies), layout3);\n",
    "p = [p1() p2(); p3() p4()]\n",
    "\n"
   ]
  },
  {
   "cell_type": "markdown",
   "metadata": {},
   "source": [
    "## Simulation 2"
   ]
  },
  {
   "cell_type": "code",
   "execution_count": null,
   "metadata": {},
   "outputs": [],
   "source": [
    "tspan = (0.0, 15.0)\n",
    "\n",
    "# Load data here\n",
    "∂V_opo = [ -derivative(get_Lagrange_poly(nodes)^2) for nodes in values]\n",
    "params = (0.0, J, state_sizes, N, M, ∂V_opo, -0.5, 10.0, g_ω, values);\n",
    "\n",
    "\n",
    "# initial condition(s)\n",
    "u0 = ones(2N)\n",
    "u0[1:N] = [sample(f[2:end]) for f in values] + 2*rand(N) - ones(N)\n",
    "\n",
    "# define problem and run simulation\n",
    "prob = ODEProblem(update_rule2!, u0, tspan, params)\n",
    "#sol = solve(prob, Euler(), dt = 0.01);\n",
    "sol = solve(prob, Tsit5());"
   ]
  },
  {
   "cell_type": "code",
   "execution_count": null,
   "metadata": {},
   "outputs": [],
   "source": [
    "traces = [scatter(x = sol.t, y = [vec[n] for vec in sol.u], name = string(n)) for n in 1:N];\n",
    "layout1 = Layout(title=\"ω(t)\",\n",
    "                   xaxis_title=\"t\",\n",
    "                   yaxis_title=\"Value\")\n",
    "p1() = plot(traces, layout1);\n",
    "\n",
    "auxs = [scatter(x = sol.t, y = [vec[m] for vec in sol.u], name = string(m-N)) for m in N+1:2N];\n",
    "layout2 = Layout(title=\"Error variables\",\n",
    "                   xaxis_title=\"t\",\n",
    "                   yaxis_title=\"Value\")\n",
    "p2() = plot(auxs, layout2);\n",
    "\n",
    "energies = [ s_t[1:N]'* J *s_t[1:N] for s_t in sol.u]\n",
    "layout3 = Layout(title=\"Ising Energy\",\n",
    "                   xaxis_title=\"t\",\n",
    "                   yaxis_title=\"Value\")   \n",
    "\n",
    "\n",
    "\n",
    "p3() = plot(scatter(x=sol.t, y= energies), layout3);\n",
    "p = [p1() p2() p3()]\n",
    "\n"
   ]
  },
  {
   "cell_type": "code",
   "execution_count": null,
   "metadata": {},
   "outputs": [],
   "source": [
    "values"
   ]
  },
  {
   "cell_type": "code",
   "execution_count": null,
   "metadata": {},
   "outputs": [],
   "source": [
    "ωs = [i for i in -1:0.001:71]\n",
    "vals = [10, 20, 30, 40, 50, 60]\n",
    "traces = [scatter(x = ωs, y = [g_ω(7.0, ω, vals) for ω in ωs]), \n",
    "        scatter(x = vals, y = zeros(length(vals)), mode=\"markers\", marker_color=\"red\")\n",
    "        ];\n",
    "layout = Layout(title=\"g(ω)\",\n",
    "                    xaxis_title=\"ω\",\n",
    "                    yaxis_title=\"g(ω)\")\n",
    "plot(traces, layout)"
   ]
  }
 ],
 "metadata": {
  "kernelspec": {
   "display_name": "Julia 1.7.0",
   "language": "julia",
   "name": "julia-1.7"
  },
  "language_info": {
   "file_extension": ".jl",
   "mimetype": "application/julia",
   "name": "julia",
   "version": "1.7.0"
  },
  "orig_nbformat": 4
 },
 "nbformat": 4,
 "nbformat_minor": 2
}
