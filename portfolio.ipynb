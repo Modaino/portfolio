{
 "cells": [
  {
   "attachments": {},
   "cell_type": "markdown",
   "metadata": {},
   "source": [
    "# Protfolio optimization with CIM"
   ]
  },
  {
   "attachments": {},
   "cell_type": "markdown",
   "metadata": {},
   "source": [
    "## Equations"
   ]
  },
  {
   "attachments": {},
   "cell_type": "markdown",
   "metadata": {},
   "source": [
    "### Optimization problem formulation"
   ]
  },
  {
   "attachments": {},
   "cell_type": "markdown",
   "metadata": {},
   "source": [
    "Potential:\n",
    "$$\n",
    "V(\\omega; \\mu, \\Theta) = \\sum_{ij}^N -\\mu_i \\omega_i + \\frac{\\gamma}{2} \\Theta_{ij} \\omega_i \\omega_j \n",
    "$$\n",
    "Constraints:\n",
    "\n",
    "\n",
    "-Allocations (Box constraints)\n",
    "$$\n",
    "\\sum_{i \\in I_k} \\omega_i \\leq \\lambda_{I_k}\n",
    "$$\n",
    "for some subsets $I_k \\subseteq \\left[ N \\right]$, whre $k \\in [M']$ \n",
    "\n",
    "-Budget constraints \n",
    "$$\n",
    "\\sum_{i \\in J_k} \\omega_i = \\lambda_{J_k}\n",
    "$$\n",
    "for some subsets $J_k \\subseteq \\left[ N \\right]$, whre $k \\in [M]$ , with $\\lambda_{\\left[ N \\right]} = \\lambda_0 = 1$\n",
    "\n",
    "-Continuous formulation of budget constraints (with lagrange multiplier $\\rho$)\n",
    "$$\n",
    "U(\\omega; u, \\lambda) = -\\rho \\sum_{k=0}^M \\sum_i \\left[ (u_k)_i \\omega_i - \\lambda_k \\right]^2\n",
    "$$\n",
    "where $(u_k)_i = 1$ if the $i^{\\text{th}}$ asset is in $J_k$, $0$ otherwise.\n",
    "\n",
    "-Trading costs (backwards, real-life)\n",
    "$$\n",
    "\\underset{\\omega_i(t)}{\\text{min}} \\underbrace{\\sum_i^N \\left| \\omega_i (t) - \\overbrace{\\omega_i(t - \\delta t)}^{\\equiv \\Omega_i} \\right| \\nu_i }_{ \\equiv W(\\omega; \\nu, \\Omega) }\n",
    "$$\n",
    "-Trading costs (modified to have continuous derivative)\n",
    "$$\n",
    "\\underset{\\omega_i(t)}{\\text{min}} \\underbrace{\\sum_i^N \\left( \\omega_i  - \\Omega_i \\right)^2\\nu_i }_{ \\equiv W'(\\omega; \\nu, \\Omega) }\n",
    "$$"
   ]
  },
  {
   "attachments": {},
   "cell_type": "markdown",
   "metadata": {},
   "source": [
    "### Gradient rule\n",
    "$$\n",
    "\\frac{d \\omega_k}{dt} = -\\frac{\\partial_k }{\\partial \\omega_k } \\left[ V(\\omega; \\mu, \\Theta) + W'(\\omega; \\nu, \\Omega) + U(\\omega; u, \\lambda)\\right]\n",
    "$$\n",
    "\n",
    "Projection to enforce box constraints...\n"
   ]
  },
  {
   "attachments": {},
   "cell_type": "markdown",
   "metadata": {},
   "source": [
    "$$\n",
    "\\begin{aligned}\n",
    "\n",
    "- \\frac{\\partial }{\\partial \\omega_k }  V(\\omega; \\mu, \\Theta) &= - \\partial_k \\left( \\sum_{ij}^N -\\mu_i \\omega_i + \\frac{\\gamma}{2} \\Theta_{ij} \\omega_i \\omega_j  \\right) \\\\\n",
    "\n",
    " &= - \\sum_{ij}^N -\\mu_i \\delta_{i,k} + \\frac{\\gamma}{2} \\Theta_{ij} \\delta_{i,k} \\omega_j + \\frac{\\gamma}{2} \\Theta_{ij} \\omega_i \\delta_{k, j}  \\\\\n",
    "\n",
    " &= \\sum_{i}^N \\mu_k  - \\gamma \\Theta_{ik} \\omega_i \\\\\n",
    "\n",
    " &= \\mu_k - \\gamma \\sum_{i}^N \\Theta_{ik} \\omega_i \\\\\n",
    "\\end{aligned}\n",
    "$$"
   ]
  },
  {
   "attachments": {},
   "cell_type": "markdown",
   "metadata": {},
   "source": [
    "$$\n",
    "\n",
    "\\begin{aligned}\n",
    "-\\frac{\\partial }{\\partial \\omega_k } W'(\\omega; \\nu, \\Omega) &= - \\partial_k \\sigma \\sum_i (\\omega_i - \\Omega_i)^2 \\nu_i\\\\\n",
    "\n",
    "&= - 2 \\sigma  \\sum_i \\nu_i \\left(\\omega_i -\\Omega_i \\right)\\delta_{i,k} \\\\\n",
    "\n",
    "&= - 2 \\sigma  \\nu_k \\left(\\omega_k -\\Omega_k \\right)\n",
    "\\end{aligned}\n",
    "$$\n",
    "\n"
   ]
  },
  {
   "attachments": {},
   "cell_type": "markdown",
   "metadata": {},
   "source": [
    "$$\n",
    "\\begin{aligned}\n",
    "-\\frac{\\partial }{\\partial \\omega_k } U(\\omega, u, \\lambda) \n",
    " &= \\partial_k \\rho \\sum_{j=0}^M \\sum_i \\left[ (u_j)_i \\omega_i - \\lambda_j \\right]^2 \\\\\n",
    " &= \\sum_{j=0}^M \\sum_i^N2 \\left((u_j)_i \\omega_i - \\lambda_j \\right) (u_j)_i \\delta_{ik} \\\\\n",
    " &= 2 \\sum_{j=0}^M \\left((u_j)_k \\omega_k - \\lambda_j \\right) (u_j)_k\n",
    "\\end{aligned}\n",
    "$$"
   ]
  },
  {
   "attachments": {},
   "cell_type": "markdown",
   "metadata": {},
   "source": [
    "### Exact solution\n",
    "$$\n",
    "\\frac{\\partial}{\\partial \\omega_k} (V + W + U) = 0\n",
    "$$\n",
    "In vector notation\n",
    "$$\n",
    " 0 = \\vec{\\mu} - \\gamma \\underline{\\underline{\\Theta}} \\vec{\\omega} -2 \\sigma \\cdot \\text{diag}(\\vec{\\nu})\\left( \\vec{\\omega} - \\vec{\\Omega} \\right) + \\rho \\sum_j \\underbrace{\\vec{u}_j \\odot \\vec{\\omega}  \\odot \\vec{u}_j}_{\\text{diag}(\\vec{u_j})^2 \\vec{\\omega}} - \\lambda_j \\vec{u}_j \n",
    "$$\n",
    "\n",
    "$$\n",
    "\\vec{\\omega} = \\left( 2\\rho \\sum_j \\text{diag}(\\vec{u_j})^2 - \\gamma \\underline{\\underline{\\Theta}} -2 \\sigma \\cdot \\text{diag}(\\vec{\\nu}) \\right)^{-1} \\left(2 \\rho \\sum_j \\lambda_j \\vec{u}_j + 2\\sigma \\text{diag}(\\vec{\\nu}) \\vec{\\Omega} - \\vec{\\mu}  \\right)\n",
    "$$"
   ]
  },
  {
   "attachments": {},
   "cell_type": "markdown",
   "metadata": {},
   "source": [
    "# Code"
   ]
  },
  {
   "cell_type": "code",
   "execution_count": 1,
   "metadata": {},
   "outputs": [],
   "source": [
    "using DifferentialEquations\n",
    "using DynamicalSystems\n",
    "using PlotlyJS, DataFrames\n",
    "using IJulia"
   ]
  },
  {
   "attachments": {},
   "cell_type": "markdown",
   "metadata": {},
   "source": [
    "The update rule"
   ]
  },
  {
   "cell_type": "code",
   "execution_count": null,
   "metadata": {},
   "outputs": [],
   "source": [
    "function update_rule!(du, u, params, t)\n",
    "    μ = params[1]\n",
    "    Θ = params[2]\n",
    "    c = params[3]\n",
    "\n",
    "    for i in 1:N\n",
    "        du[i] = \n",
    "    end\n",
    "end"
   ]
  },
  {
   "attachments": {},
   "cell_type": "markdown",
   "metadata": {},
   "source": [
    "## Simulation"
   ]
  },
  {
   "cell_type": "code",
   "execution_count": null,
   "metadata": {},
   "outputs": [],
   "source": [
    "tspan = (0.0,100.0)\n",
    "\n",
    "# Load data here\n",
    "params = ...\n",
    "\n",
    "\n",
    "# initial condition(s)\n",
    "u0 = 2*rand(2*N)-ones(2*N)\n",
    "\n",
    "# terminate integration on solution\n",
    "condition(u, t, integrator) = ...\n",
    "affect!(integrator) = terminate!(integrator)\n",
    "cb = DiscreteCallback(condition, affect!)\n",
    "# define problem and run simulation\n",
    "prob = ODEProblem(update_rule!, u0, tspan, params)\n",
    "sol = solve(prob, Tsit5(), callback = cb);"
   ]
  }
 ],
 "metadata": {
  "kernelspec": {
   "display_name": "Julia 1.7.0",
   "language": "julia",
   "name": "julia-1.7"
  },
  "language_info": {
   "file_extension": ".jl",
   "mimetype": "application/julia",
   "name": "julia",
   "version": "1.7.0"
  },
  "orig_nbformat": 4
 },
 "nbformat": 4,
 "nbformat_minor": 2
}
